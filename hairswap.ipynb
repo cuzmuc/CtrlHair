{
  "nbformat": 4,
  "nbformat_minor": 0,
  "metadata": {
    "colab": {
      "provenance": [],
      "gpuType": "T4"
    },
    "kernelspec": {
      "name": "python3",
      "display_name": "Python 3"
    },
    "language_info": {
      "name": "python"
    },
    "accelerator": "GPU"
  },
  "cells": [
    {
      "cell_type": "code",
      "execution_count": null,
      "metadata": {
        "id": "P8PGHKmBtkDL"
      },
      "outputs": [],
      "source": [
        "!git clone https://github.com/cuzmuc/CtrlHair.git\n",
        "%cd /content/CtrlHair\n",
        "!git pull\n"
      ]
    },
    {
      "cell_type": "code",
      "source": [
        "!bash script/install.sh\n"
      ],
      "metadata": {
        "id": "QebV5-QjuupZ"
      },
      "execution_count": null,
      "outputs": []
    },
    {
      "cell_type": "code",
      "source": [
        "!python script/download.py"
      ],
      "metadata": {
        "id": "7qHMpU7xJnNR"
      },
      "execution_count": null,
      "outputs": []
    },
    {
      "cell_type": "code",
      "source": [
        "%cd /content/CtrlHair/external_code/my_cython"
      ],
      "metadata": {
        "id": "rBSIHTPhM_gc"
      },
      "execution_count": null,
      "outputs": []
    },
    {
      "cell_type": "code",
      "source": [
        "!python setup.py build_ext -i"
      ],
      "metadata": {
        "id": "Yr_R6A1GLeaL"
      },
      "execution_count": null,
      "outputs": []
    },
    {
      "cell_type": "code",
      "source": [
        "%cd ../../"
      ],
      "metadata": {
        "id": "awfwuwR4NjTk"
      },
      "execution_count": null,
      "outputs": []
    },
    {
      "cell_type": "code",
      "source": [
        "!wget https://bin.equinox.io/c/4VmDzA7iaHb/ngrok-stable-linux-amd64.zip\n",
        "!unzip -o ngrok-stable-linux-amd64.zip"
      ],
      "metadata": {
        "id": "BrlMznCxSGY6"
      },
      "execution_count": null,
      "outputs": []
    },
    {
      "cell_type": "code",
      "source": [
        "# paste your AuthToken here and execute this command\n",
        "!./ngrok authtoken 23H0IY10fqeKMIW7kG05JhKZMae_3Zabr2iqkU9AUcZ7CrRTP"
      ],
      "metadata": {
        "id": "Y9B_s6xRQq7V"
      },
      "execution_count": null,
      "outputs": []
    },
    {
      "cell_type": "code",
      "source": [
        "!python ./app.py"
      ],
      "metadata": {
        "id": "mS9MV1VNY0IV"
      },
      "execution_count": null,
      "outputs": []
    }
  ]
}
